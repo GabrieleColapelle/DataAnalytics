{
 "cells": [
  {
   "cell_type": "markdown",
   "metadata": {},
   "source": [
    "# Data Analytics June 25 2021\n",
    "\n",
    "\n",
    "### Surname \n",
    "\n",
    "**Write your Surname here**\n",
    "\n",
    "## Name\n",
    "\n",
    "**Write your Name here**\n",
    "\n",
    "### Matricola ID\n",
    "\n",
    "**Write your Matricola here**"
   ]
  },
  {
   "cell_type": "code",
   "execution_count": 1,
   "metadata": {},
   "outputs": [],
   "source": [
    "import pandas as pd"
   ]
  },
  {
   "cell_type": "markdown",
   "metadata": {},
   "source": [
    "The file ``Views.csv`` contains users views of 4 different channels of a streaming service. The channels are ``['Sport', 'Movies', 'News', 'Fiction']``.\n",
    "In each row are reported: the date of the view (``Date``), the channel (``Channel``), the viewing time in minutes (``Duration``)  and the user id (``User``, ``integer``).\n",
    "\n",
    "The file ``Calendar.csv`` contains all days of year 2020 along with the name of each day.\n",
    "\n",
    "1. Read the file ``Views.csv`` into a convenient dataframe. \n",
    "2. If the dataframe contains ``NaN`` values in the ``Duration`` field, replace it with 0, if it contains ``NaN`` in other fields drop the corresponding row. \n",
    "3. Extract the total number of users.\n",
    "4. \n",
    "    1. Create dataframes containing:\n",
    "        1. The average and total viewing time for each channel in year 2020.\n",
    "        2. The average and total viewing time for each day of the week. \n",
    "        3. [**Bonus**] Sort the dataframes of point b. by weekdays, i.e., Mon, Tue, Wed, Thu, Fri, Sat, Sun.\n",
    "    2. Graph the distribution of the viewing times for each channel.\n",
    "5. Create a multi-indexed dataframe containing the viewing time for each day of the week (first level index) and for each channel (second level index). What is the most watched channel over the weekend?\n",
    "\n",
    "6. **Bonus question**\n",
    "\n",
    "    Assuming viewing times have the following costs per channel:\n",
    "    \n",
    "    - ``'Sport'``: 0.35 Euro/min for duration greater than 10 minutes, 0 otherwise.\n",
    "    - ``'Movies'``: 0.20 Euro/min for duration greater than 15 minutes, 0 otherwise.\n",
    "    - ``'News'``: 0.10 Euro/min for duration greater than 5 minutes, 0 otherwise.\n",
    "    - ``'Fiction'``: 0.25 Euro/min for duration greater than 10 minutes, 0 otherwise.\n",
    "    \n",
    "   Calculate the bill for each user.\n"
   ]
  },
  {
   "cell_type": "code",
   "execution_count": 2,
   "metadata": {},
   "outputs": [],
   "source": [
    "views = pd.read_csv('Views.csv', sep=';')"
   ]
  },
  {
   "cell_type": "code",
   "execution_count": 3,
   "metadata": {},
   "outputs": [
    {
     "data": {
      "text/html": [
       "<div>\n",
       "<style scoped>\n",
       "    .dataframe tbody tr th:only-of-type {\n",
       "        vertical-align: middle;\n",
       "    }\n",
       "\n",
       "    .dataframe tbody tr th {\n",
       "        vertical-align: top;\n",
       "    }\n",
       "\n",
       "    .dataframe thead th {\n",
       "        text-align: right;\n",
       "    }\n",
       "</style>\n",
       "<table border=\"1\" class=\"dataframe\">\n",
       "  <thead>\n",
       "    <tr style=\"text-align: right;\">\n",
       "      <th></th>\n",
       "      <th>Unnamed: 0</th>\n",
       "      <th>Date</th>\n",
       "      <th>Channel</th>\n",
       "      <th>Duration</th>\n",
       "      <th>User</th>\n",
       "    </tr>\n",
       "  </thead>\n",
       "  <tbody>\n",
       "    <tr>\n",
       "      <th>0</th>\n",
       "      <td>0</td>\n",
       "      <td>28/09/20</td>\n",
       "      <td>Sport</td>\n",
       "      <td>17.0</td>\n",
       "      <td>100012.0</td>\n",
       "    </tr>\n",
       "    <tr>\n",
       "      <th>1</th>\n",
       "      <td>1</td>\n",
       "      <td>06/09/20</td>\n",
       "      <td>Sport</td>\n",
       "      <td>75.0</td>\n",
       "      <td>100014.0</td>\n",
       "    </tr>\n",
       "    <tr>\n",
       "      <th>2</th>\n",
       "      <td>2</td>\n",
       "      <td>20/09/20</td>\n",
       "      <td>Sport</td>\n",
       "      <td>2.0</td>\n",
       "      <td>100016.0</td>\n",
       "    </tr>\n",
       "    <tr>\n",
       "      <th>3</th>\n",
       "      <td>3</td>\n",
       "      <td>24/08/20</td>\n",
       "      <td>Movies</td>\n",
       "      <td>15.0</td>\n",
       "      <td>100021.0</td>\n",
       "    </tr>\n",
       "    <tr>\n",
       "      <th>4</th>\n",
       "      <td>4</td>\n",
       "      <td>18/08/20</td>\n",
       "      <td>Fiction</td>\n",
       "      <td>5.0</td>\n",
       "      <td>100009.0</td>\n",
       "    </tr>\n",
       "    <tr>\n",
       "      <th>...</th>\n",
       "      <td>...</td>\n",
       "      <td>...</td>\n",
       "      <td>...</td>\n",
       "      <td>...</td>\n",
       "      <td>...</td>\n",
       "    </tr>\n",
       "    <tr>\n",
       "      <th>72995</th>\n",
       "      <td>72995</td>\n",
       "      <td>22/06/20</td>\n",
       "      <td>News</td>\n",
       "      <td>10.0</td>\n",
       "      <td>100034.0</td>\n",
       "    </tr>\n",
       "    <tr>\n",
       "      <th>72996</th>\n",
       "      <td>72996</td>\n",
       "      <td>11/02/20</td>\n",
       "      <td>Movies</td>\n",
       "      <td>8.0</td>\n",
       "      <td>100038.0</td>\n",
       "    </tr>\n",
       "    <tr>\n",
       "      <th>72997</th>\n",
       "      <td>72997</td>\n",
       "      <td>04/01/20</td>\n",
       "      <td>Sport</td>\n",
       "      <td>19.0</td>\n",
       "      <td>100005.0</td>\n",
       "    </tr>\n",
       "    <tr>\n",
       "      <th>72998</th>\n",
       "      <td>72998</td>\n",
       "      <td>26/03/20</td>\n",
       "      <td>Movies</td>\n",
       "      <td>30.0</td>\n",
       "      <td>100042.0</td>\n",
       "    </tr>\n",
       "    <tr>\n",
       "      <th>72999</th>\n",
       "      <td>72999</td>\n",
       "      <td>05/09/20</td>\n",
       "      <td>Movies</td>\n",
       "      <td>11.0</td>\n",
       "      <td>100022.0</td>\n",
       "    </tr>\n",
       "  </tbody>\n",
       "</table>\n",
       "<p>73000 rows × 5 columns</p>\n",
       "</div>"
      ],
      "text/plain": [
       "       Unnamed: 0      Date  Channel  Duration      User\n",
       "0               0  28/09/20    Sport      17.0  100012.0\n",
       "1               1  06/09/20    Sport      75.0  100014.0\n",
       "2               2  20/09/20    Sport       2.0  100016.0\n",
       "3               3  24/08/20   Movies      15.0  100021.0\n",
       "4               4  18/08/20  Fiction       5.0  100009.0\n",
       "...           ...       ...      ...       ...       ...\n",
       "72995       72995  22/06/20     News      10.0  100034.0\n",
       "72996       72996  11/02/20   Movies       8.0  100038.0\n",
       "72997       72997  04/01/20    Sport      19.0  100005.0\n",
       "72998       72998  26/03/20   Movies      30.0  100042.0\n",
       "72999       72999  05/09/20   Movies      11.0  100022.0\n",
       "\n",
       "[73000 rows x 5 columns]"
      ]
     },
     "execution_count": 3,
     "metadata": {},
     "output_type": "execute_result"
    }
   ],
   "source": [
    "views"
   ]
  },
  {
   "cell_type": "code",
   "execution_count": 26,
   "metadata": {},
   "outputs": [],
   "source": [
    "del views[views.columns[0]]"
   ]
  },
  {
   "cell_type": "code",
   "execution_count": 27,
   "metadata": {},
   "outputs": [
    {
     "data": {
      "text/plain": [
       "False"
      ]
     },
     "execution_count": 27,
     "metadata": {},
     "output_type": "execute_result"
    }
   ],
   "source": [
    "views['Duration'].isnull().any()"
   ]
  },
  {
   "cell_type": "code",
   "execution_count": 28,
   "metadata": {},
   "outputs": [],
   "source": [
    "views['Duration'].fillna(value = 0, inplace = True)"
   ]
  },
  {
   "cell_type": "code",
   "execution_count": 29,
   "metadata": {},
   "outputs": [
    {
     "data": {
      "text/plain": [
       "False"
      ]
     },
     "execution_count": 29,
     "metadata": {},
     "output_type": "execute_result"
    }
   ],
   "source": [
    "views['Duration'].isnull().any()"
   ]
  },
  {
   "cell_type": "code",
   "execution_count": 30,
   "metadata": {},
   "outputs": [
    {
     "data": {
      "text/plain": [
       "Date        False\n",
       "Channel     False\n",
       "Duration    False\n",
       "User        False\n",
       "dtype: bool"
      ]
     },
     "execution_count": 30,
     "metadata": {},
     "output_type": "execute_result"
    }
   ],
   "source": [
    "views.isnull().any()"
   ]
  },
  {
   "cell_type": "code",
   "execution_count": 31,
   "metadata": {},
   "outputs": [],
   "source": [
    "views.dropna(axis = 0 , inplace = True, how = 'any')"
   ]
  },
  {
   "cell_type": "code",
   "execution_count": 32,
   "metadata": {},
   "outputs": [
    {
     "data": {
      "text/plain": [
       "Date        False\n",
       "Channel     False\n",
       "Duration    False\n",
       "User        False\n",
       "dtype: bool"
      ]
     },
     "execution_count": 32,
     "metadata": {},
     "output_type": "execute_result"
    }
   ],
   "source": [
    "views.isnull().any()"
   ]
  },
  {
   "cell_type": "code",
   "execution_count": 33,
   "metadata": {},
   "outputs": [
    {
     "data": {
      "text/html": [
       "<div>\n",
       "<style scoped>\n",
       "    .dataframe tbody tr th:only-of-type {\n",
       "        vertical-align: middle;\n",
       "    }\n",
       "\n",
       "    .dataframe tbody tr th {\n",
       "        vertical-align: top;\n",
       "    }\n",
       "\n",
       "    .dataframe thead th {\n",
       "        text-align: right;\n",
       "    }\n",
       "</style>\n",
       "<table border=\"1\" class=\"dataframe\">\n",
       "  <thead>\n",
       "    <tr style=\"text-align: right;\">\n",
       "      <th></th>\n",
       "      <th>Date</th>\n",
       "      <th>Channel</th>\n",
       "      <th>Duration</th>\n",
       "      <th>User</th>\n",
       "    </tr>\n",
       "  </thead>\n",
       "  <tbody>\n",
       "    <tr>\n",
       "      <th>0</th>\n",
       "      <td>28/09/20</td>\n",
       "      <td>Sport</td>\n",
       "      <td>17.0</td>\n",
       "      <td>100012.0</td>\n",
       "    </tr>\n",
       "    <tr>\n",
       "      <th>1</th>\n",
       "      <td>06/09/20</td>\n",
       "      <td>Sport</td>\n",
       "      <td>75.0</td>\n",
       "      <td>100014.0</td>\n",
       "    </tr>\n",
       "    <tr>\n",
       "      <th>2</th>\n",
       "      <td>20/09/20</td>\n",
       "      <td>Sport</td>\n",
       "      <td>2.0</td>\n",
       "      <td>100016.0</td>\n",
       "    </tr>\n",
       "    <tr>\n",
       "      <th>3</th>\n",
       "      <td>24/08/20</td>\n",
       "      <td>Movies</td>\n",
       "      <td>15.0</td>\n",
       "      <td>100021.0</td>\n",
       "    </tr>\n",
       "    <tr>\n",
       "      <th>4</th>\n",
       "      <td>18/08/20</td>\n",
       "      <td>Fiction</td>\n",
       "      <td>5.0</td>\n",
       "      <td>100009.0</td>\n",
       "    </tr>\n",
       "    <tr>\n",
       "      <th>...</th>\n",
       "      <td>...</td>\n",
       "      <td>...</td>\n",
       "      <td>...</td>\n",
       "      <td>...</td>\n",
       "    </tr>\n",
       "    <tr>\n",
       "      <th>72995</th>\n",
       "      <td>22/06/20</td>\n",
       "      <td>News</td>\n",
       "      <td>10.0</td>\n",
       "      <td>100034.0</td>\n",
       "    </tr>\n",
       "    <tr>\n",
       "      <th>72996</th>\n",
       "      <td>11/02/20</td>\n",
       "      <td>Movies</td>\n",
       "      <td>8.0</td>\n",
       "      <td>100038.0</td>\n",
       "    </tr>\n",
       "    <tr>\n",
       "      <th>72997</th>\n",
       "      <td>04/01/20</td>\n",
       "      <td>Sport</td>\n",
       "      <td>19.0</td>\n",
       "      <td>100005.0</td>\n",
       "    </tr>\n",
       "    <tr>\n",
       "      <th>72998</th>\n",
       "      <td>26/03/20</td>\n",
       "      <td>Movies</td>\n",
       "      <td>30.0</td>\n",
       "      <td>100042.0</td>\n",
       "    </tr>\n",
       "    <tr>\n",
       "      <th>72999</th>\n",
       "      <td>05/09/20</td>\n",
       "      <td>Movies</td>\n",
       "      <td>11.0</td>\n",
       "      <td>100022.0</td>\n",
       "    </tr>\n",
       "  </tbody>\n",
       "</table>\n",
       "<p>72987 rows × 4 columns</p>\n",
       "</div>"
      ],
      "text/plain": [
       "           Date  Channel  Duration      User\n",
       "0      28/09/20    Sport      17.0  100012.0\n",
       "1      06/09/20    Sport      75.0  100014.0\n",
       "2      20/09/20    Sport       2.0  100016.0\n",
       "3      24/08/20   Movies      15.0  100021.0\n",
       "4      18/08/20  Fiction       5.0  100009.0\n",
       "...         ...      ...       ...       ...\n",
       "72995  22/06/20     News      10.0  100034.0\n",
       "72996  11/02/20   Movies       8.0  100038.0\n",
       "72997  04/01/20    Sport      19.0  100005.0\n",
       "72998  26/03/20   Movies      30.0  100042.0\n",
       "72999  05/09/20   Movies      11.0  100022.0\n",
       "\n",
       "[72987 rows x 4 columns]"
      ]
     },
     "execution_count": 33,
     "metadata": {},
     "output_type": "execute_result"
    }
   ],
   "source": [
    "views"
   ]
  },
  {
   "cell_type": "code",
   "execution_count": 34,
   "metadata": {},
   "outputs": [],
   "source": [
    "users = views.pivot_table(index='User', aggfunc = 'sum')"
   ]
  },
  {
   "cell_type": "markdown",
   "metadata": {},
   "source": [
    "## number of users "
   ]
  },
  {
   "cell_type": "code",
   "execution_count": 35,
   "metadata": {},
   "outputs": [
    {
     "data": {
      "text/plain": [
       "Duration    50\n",
       "dtype: int64"
      ]
     },
     "execution_count": 35,
     "metadata": {},
     "output_type": "execute_result"
    }
   ],
   "source": [
    "users.count()"
   ]
  },
  {
   "cell_type": "code",
   "execution_count": 36,
   "metadata": {},
   "outputs": [],
   "source": [
    "calendar = pd.read_csv('Calendar.csv', sep=';')"
   ]
  },
  {
   "cell_type": "code",
   "execution_count": 37,
   "metadata": {},
   "outputs": [
    {
     "data": {
      "text/html": [
       "<div>\n",
       "<style scoped>\n",
       "    .dataframe tbody tr th:only-of-type {\n",
       "        vertical-align: middle;\n",
       "    }\n",
       "\n",
       "    .dataframe tbody tr th {\n",
       "        vertical-align: top;\n",
       "    }\n",
       "\n",
       "    .dataframe thead th {\n",
       "        text-align: right;\n",
       "    }\n",
       "</style>\n",
       "<table border=\"1\" class=\"dataframe\">\n",
       "  <thead>\n",
       "    <tr style=\"text-align: right;\">\n",
       "      <th></th>\n",
       "      <th>Date</th>\n",
       "      <th>WeekDay</th>\n",
       "    </tr>\n",
       "  </thead>\n",
       "  <tbody>\n",
       "    <tr>\n",
       "      <th>0</th>\n",
       "      <td>01/01/20</td>\n",
       "      <td>Wednesday</td>\n",
       "    </tr>\n",
       "    <tr>\n",
       "      <th>1</th>\n",
       "      <td>02/01/20</td>\n",
       "      <td>Thursday</td>\n",
       "    </tr>\n",
       "    <tr>\n",
       "      <th>2</th>\n",
       "      <td>03/01/20</td>\n",
       "      <td>Friday</td>\n",
       "    </tr>\n",
       "    <tr>\n",
       "      <th>3</th>\n",
       "      <td>04/01/20</td>\n",
       "      <td>Saturday</td>\n",
       "    </tr>\n",
       "    <tr>\n",
       "      <th>4</th>\n",
       "      <td>05/01/20</td>\n",
       "      <td>Sunday</td>\n",
       "    </tr>\n",
       "    <tr>\n",
       "      <th>...</th>\n",
       "      <td>...</td>\n",
       "      <td>...</td>\n",
       "    </tr>\n",
       "    <tr>\n",
       "      <th>361</th>\n",
       "      <td>27/12/20</td>\n",
       "      <td>Saturday</td>\n",
       "    </tr>\n",
       "    <tr>\n",
       "      <th>362</th>\n",
       "      <td>28/12/20</td>\n",
       "      <td>Monday</td>\n",
       "    </tr>\n",
       "    <tr>\n",
       "      <th>363</th>\n",
       "      <td>29/12/20</td>\n",
       "      <td>Tuesday</td>\n",
       "    </tr>\n",
       "    <tr>\n",
       "      <th>364</th>\n",
       "      <td>30/12/20</td>\n",
       "      <td>Wednesday</td>\n",
       "    </tr>\n",
       "    <tr>\n",
       "      <th>365</th>\n",
       "      <td>31/12/20</td>\n",
       "      <td>Thursday</td>\n",
       "    </tr>\n",
       "  </tbody>\n",
       "</table>\n",
       "<p>366 rows × 2 columns</p>\n",
       "</div>"
      ],
      "text/plain": [
       "         Date    WeekDay\n",
       "0    01/01/20  Wednesday\n",
       "1    02/01/20   Thursday\n",
       "2    03/01/20     Friday\n",
       "3    04/01/20   Saturday\n",
       "4    05/01/20     Sunday\n",
       "..        ...        ...\n",
       "361  27/12/20   Saturday\n",
       "362  28/12/20     Monday\n",
       "363  29/12/20    Tuesday\n",
       "364  30/12/20  Wednesday\n",
       "365  31/12/20   Thursday\n",
       "\n",
       "[366 rows x 2 columns]"
      ]
     },
     "execution_count": 37,
     "metadata": {},
     "output_type": "execute_result"
    }
   ],
   "source": [
    "calendar"
   ]
  },
  {
   "cell_type": "code",
   "execution_count": 38,
   "metadata": {},
   "outputs": [],
   "source": [
    "table = pd.merge(views, calendar, left_on='Date', right_on='Date')"
   ]
  },
  {
   "cell_type": "code",
   "execution_count": 39,
   "metadata": {},
   "outputs": [
    {
     "data": {
      "text/html": [
       "<div>\n",
       "<style scoped>\n",
       "    .dataframe tbody tr th:only-of-type {\n",
       "        vertical-align: middle;\n",
       "    }\n",
       "\n",
       "    .dataframe tbody tr th {\n",
       "        vertical-align: top;\n",
       "    }\n",
       "\n",
       "    .dataframe thead th {\n",
       "        text-align: right;\n",
       "    }\n",
       "</style>\n",
       "<table border=\"1\" class=\"dataframe\">\n",
       "  <thead>\n",
       "    <tr style=\"text-align: right;\">\n",
       "      <th></th>\n",
       "      <th>Date</th>\n",
       "      <th>Channel</th>\n",
       "      <th>Duration</th>\n",
       "      <th>User</th>\n",
       "      <th>WeekDay</th>\n",
       "    </tr>\n",
       "  </thead>\n",
       "  <tbody>\n",
       "    <tr>\n",
       "      <th>0</th>\n",
       "      <td>28/09/20</td>\n",
       "      <td>Sport</td>\n",
       "      <td>17.0</td>\n",
       "      <td>100012.0</td>\n",
       "      <td>Wednesday</td>\n",
       "    </tr>\n",
       "    <tr>\n",
       "      <th>1</th>\n",
       "      <td>28/09/20</td>\n",
       "      <td>News</td>\n",
       "      <td>13.0</td>\n",
       "      <td>100000.0</td>\n",
       "      <td>Wednesday</td>\n",
       "    </tr>\n",
       "    <tr>\n",
       "      <th>2</th>\n",
       "      <td>28/09/20</td>\n",
       "      <td>Sport</td>\n",
       "      <td>40.0</td>\n",
       "      <td>100003.0</td>\n",
       "      <td>Wednesday</td>\n",
       "    </tr>\n",
       "    <tr>\n",
       "      <th>3</th>\n",
       "      <td>28/09/20</td>\n",
       "      <td>Sport</td>\n",
       "      <td>3.0</td>\n",
       "      <td>100008.0</td>\n",
       "      <td>Wednesday</td>\n",
       "    </tr>\n",
       "    <tr>\n",
       "      <th>4</th>\n",
       "      <td>28/09/20</td>\n",
       "      <td>News</td>\n",
       "      <td>12.0</td>\n",
       "      <td>100004.0</td>\n",
       "      <td>Wednesday</td>\n",
       "    </tr>\n",
       "    <tr>\n",
       "      <th>...</th>\n",
       "      <td>...</td>\n",
       "      <td>...</td>\n",
       "      <td>...</td>\n",
       "      <td>...</td>\n",
       "      <td>...</td>\n",
       "    </tr>\n",
       "    <tr>\n",
       "      <th>72982</th>\n",
       "      <td>27/05/20</td>\n",
       "      <td>News</td>\n",
       "      <td>15.0</td>\n",
       "      <td>100001.0</td>\n",
       "      <td>Thursday</td>\n",
       "    </tr>\n",
       "    <tr>\n",
       "      <th>72983</th>\n",
       "      <td>27/05/20</td>\n",
       "      <td>Sport</td>\n",
       "      <td>25.0</td>\n",
       "      <td>100026.0</td>\n",
       "      <td>Thursday</td>\n",
       "    </tr>\n",
       "    <tr>\n",
       "      <th>72984</th>\n",
       "      <td>27/05/20</td>\n",
       "      <td>Fiction</td>\n",
       "      <td>25.0</td>\n",
       "      <td>100045.0</td>\n",
       "      <td>Thursday</td>\n",
       "    </tr>\n",
       "    <tr>\n",
       "      <th>72985</th>\n",
       "      <td>27/05/20</td>\n",
       "      <td>News</td>\n",
       "      <td>0.0</td>\n",
       "      <td>100026.0</td>\n",
       "      <td>Thursday</td>\n",
       "    </tr>\n",
       "    <tr>\n",
       "      <th>72986</th>\n",
       "      <td>27/05/20</td>\n",
       "      <td>Fiction</td>\n",
       "      <td>11.0</td>\n",
       "      <td>100022.0</td>\n",
       "      <td>Thursday</td>\n",
       "    </tr>\n",
       "  </tbody>\n",
       "</table>\n",
       "<p>72987 rows × 5 columns</p>\n",
       "</div>"
      ],
      "text/plain": [
       "           Date  Channel  Duration      User    WeekDay\n",
       "0      28/09/20    Sport      17.0  100012.0  Wednesday\n",
       "1      28/09/20     News      13.0  100000.0  Wednesday\n",
       "2      28/09/20    Sport      40.0  100003.0  Wednesday\n",
       "3      28/09/20    Sport       3.0  100008.0  Wednesday\n",
       "4      28/09/20     News      12.0  100004.0  Wednesday\n",
       "...         ...      ...       ...       ...        ...\n",
       "72982  27/05/20     News      15.0  100001.0   Thursday\n",
       "72983  27/05/20    Sport      25.0  100026.0   Thursday\n",
       "72984  27/05/20  Fiction      25.0  100045.0   Thursday\n",
       "72985  27/05/20     News       0.0  100026.0   Thursday\n",
       "72986  27/05/20  Fiction      11.0  100022.0   Thursday\n",
       "\n",
       "[72987 rows x 5 columns]"
      ]
     },
     "execution_count": 39,
     "metadata": {},
     "output_type": "execute_result"
    }
   ],
   "source": [
    "table"
   ]
  },
  {
   "cell_type": "code",
   "execution_count": 40,
   "metadata": {},
   "outputs": [
    {
     "data": {
      "text/html": [
       "<div>\n",
       "<style scoped>\n",
       "    .dataframe tbody tr th:only-of-type {\n",
       "        vertical-align: middle;\n",
       "    }\n",
       "\n",
       "    .dataframe tbody tr th {\n",
       "        vertical-align: top;\n",
       "    }\n",
       "\n",
       "    .dataframe thead th {\n",
       "        text-align: right;\n",
       "    }\n",
       "</style>\n",
       "<table border=\"1\" class=\"dataframe\">\n",
       "  <thead>\n",
       "    <tr style=\"text-align: right;\">\n",
       "      <th></th>\n",
       "      <th>Date</th>\n",
       "      <th>Channel</th>\n",
       "      <th>Duration</th>\n",
       "      <th>User</th>\n",
       "    </tr>\n",
       "  </thead>\n",
       "  <tbody>\n",
       "    <tr>\n",
       "      <th>0</th>\n",
       "      <td>28/09/20</td>\n",
       "      <td>Sport</td>\n",
       "      <td>17.0</td>\n",
       "      <td>100012.0</td>\n",
       "    </tr>\n",
       "    <tr>\n",
       "      <th>1</th>\n",
       "      <td>06/09/20</td>\n",
       "      <td>Sport</td>\n",
       "      <td>75.0</td>\n",
       "      <td>100014.0</td>\n",
       "    </tr>\n",
       "    <tr>\n",
       "      <th>2</th>\n",
       "      <td>20/09/20</td>\n",
       "      <td>Sport</td>\n",
       "      <td>2.0</td>\n",
       "      <td>100016.0</td>\n",
       "    </tr>\n",
       "    <tr>\n",
       "      <th>3</th>\n",
       "      <td>24/08/20</td>\n",
       "      <td>Movies</td>\n",
       "      <td>15.0</td>\n",
       "      <td>100021.0</td>\n",
       "    </tr>\n",
       "    <tr>\n",
       "      <th>4</th>\n",
       "      <td>18/08/20</td>\n",
       "      <td>Fiction</td>\n",
       "      <td>5.0</td>\n",
       "      <td>100009.0</td>\n",
       "    </tr>\n",
       "    <tr>\n",
       "      <th>...</th>\n",
       "      <td>...</td>\n",
       "      <td>...</td>\n",
       "      <td>...</td>\n",
       "      <td>...</td>\n",
       "    </tr>\n",
       "    <tr>\n",
       "      <th>72995</th>\n",
       "      <td>22/06/20</td>\n",
       "      <td>News</td>\n",
       "      <td>10.0</td>\n",
       "      <td>100034.0</td>\n",
       "    </tr>\n",
       "    <tr>\n",
       "      <th>72996</th>\n",
       "      <td>11/02/20</td>\n",
       "      <td>Movies</td>\n",
       "      <td>8.0</td>\n",
       "      <td>100038.0</td>\n",
       "    </tr>\n",
       "    <tr>\n",
       "      <th>72997</th>\n",
       "      <td>04/01/20</td>\n",
       "      <td>Sport</td>\n",
       "      <td>19.0</td>\n",
       "      <td>100005.0</td>\n",
       "    </tr>\n",
       "    <tr>\n",
       "      <th>72998</th>\n",
       "      <td>26/03/20</td>\n",
       "      <td>Movies</td>\n",
       "      <td>30.0</td>\n",
       "      <td>100042.0</td>\n",
       "    </tr>\n",
       "    <tr>\n",
       "      <th>72999</th>\n",
       "      <td>05/09/20</td>\n",
       "      <td>Movies</td>\n",
       "      <td>11.0</td>\n",
       "      <td>100022.0</td>\n",
       "    </tr>\n",
       "  </tbody>\n",
       "</table>\n",
       "<p>72987 rows × 4 columns</p>\n",
       "</div>"
      ],
      "text/plain": [
       "           Date  Channel  Duration      User\n",
       "0      28/09/20    Sport      17.0  100012.0\n",
       "1      06/09/20    Sport      75.0  100014.0\n",
       "2      20/09/20    Sport       2.0  100016.0\n",
       "3      24/08/20   Movies      15.0  100021.0\n",
       "4      18/08/20  Fiction       5.0  100009.0\n",
       "...         ...      ...       ...       ...\n",
       "72995  22/06/20     News      10.0  100034.0\n",
       "72996  11/02/20   Movies       8.0  100038.0\n",
       "72997  04/01/20    Sport      19.0  100005.0\n",
       "72998  26/03/20   Movies      30.0  100042.0\n",
       "72999  05/09/20   Movies      11.0  100022.0\n",
       "\n",
       "[72987 rows x 4 columns]"
      ]
     },
     "execution_count": 40,
     "metadata": {},
     "output_type": "execute_result"
    }
   ],
   "source": [
    "views"
   ]
  },
  {
   "cell_type": "code",
   "execution_count": 42,
   "metadata": {},
   "outputs": [
    {
     "data": {
      "text/html": [
       "<div>\n",
       "<style scoped>\n",
       "    .dataframe tbody tr th:only-of-type {\n",
       "        vertical-align: middle;\n",
       "    }\n",
       "\n",
       "    .dataframe tbody tr th {\n",
       "        vertical-align: top;\n",
       "    }\n",
       "\n",
       "    .dataframe thead th {\n",
       "        text-align: right;\n",
       "    }\n",
       "</style>\n",
       "<table border=\"1\" class=\"dataframe\">\n",
       "  <thead>\n",
       "    <tr style=\"text-align: right;\">\n",
       "      <th></th>\n",
       "      <th>Duration</th>\n",
       "    </tr>\n",
       "    <tr>\n",
       "      <th>Channel</th>\n",
       "      <th></th>\n",
       "    </tr>\n",
       "  </thead>\n",
       "  <tbody>\n",
       "    <tr>\n",
       "      <th>Fiction</th>\n",
       "      <td>269784.0</td>\n",
       "    </tr>\n",
       "    <tr>\n",
       "      <th>Movies</th>\n",
       "      <td>379211.0</td>\n",
       "    </tr>\n",
       "    <tr>\n",
       "      <th>News</th>\n",
       "      <td>157090.0</td>\n",
       "    </tr>\n",
       "    <tr>\n",
       "      <th>Sport</th>\n",
       "      <td>536938.0</td>\n",
       "    </tr>\n",
       "  </tbody>\n",
       "</table>\n",
       "</div>"
      ],
      "text/plain": [
       "         Duration\n",
       "Channel          \n",
       "Fiction  269784.0\n",
       "Movies   379211.0\n",
       "News     157090.0\n",
       "Sport    536938.0"
      ]
     },
     "execution_count": 42,
     "metadata": {},
     "output_type": "execute_result"
    }
   ],
   "source": [
    "views.pivot_table(values = 'Duration', index='Channel', aggfunc = 'sum')"
   ]
  },
  {
   "cell_type": "code",
   "execution_count": 43,
   "metadata": {},
   "outputs": [
    {
     "data": {
      "text/html": [
       "<div>\n",
       "<style scoped>\n",
       "    .dataframe tbody tr th:only-of-type {\n",
       "        vertical-align: middle;\n",
       "    }\n",
       "\n",
       "    .dataframe tbody tr th {\n",
       "        vertical-align: top;\n",
       "    }\n",
       "\n",
       "    .dataframe thead th {\n",
       "        text-align: right;\n",
       "    }\n",
       "</style>\n",
       "<table border=\"1\" class=\"dataframe\">\n",
       "  <thead>\n",
       "    <tr style=\"text-align: right;\">\n",
       "      <th></th>\n",
       "      <th>Duration</th>\n",
       "    </tr>\n",
       "    <tr>\n",
       "      <th>Channel</th>\n",
       "      <th></th>\n",
       "    </tr>\n",
       "  </thead>\n",
       "  <tbody>\n",
       "    <tr>\n",
       "      <th>Fiction</th>\n",
       "      <td>14.785926</td>\n",
       "    </tr>\n",
       "    <tr>\n",
       "      <th>Movies</th>\n",
       "      <td>20.783240</td>\n",
       "    </tr>\n",
       "    <tr>\n",
       "      <th>News</th>\n",
       "      <td>8.610030</td>\n",
       "    </tr>\n",
       "    <tr>\n",
       "      <th>Sport</th>\n",
       "      <td>29.421260</td>\n",
       "    </tr>\n",
       "  </tbody>\n",
       "</table>\n",
       "</div>"
      ],
      "text/plain": [
       "          Duration\n",
       "Channel           \n",
       "Fiction  14.785926\n",
       "Movies   20.783240\n",
       "News      8.610030\n",
       "Sport    29.421260"
      ]
     },
     "execution_count": 43,
     "metadata": {},
     "output_type": "execute_result"
    }
   ],
   "source": [
    "views.pivot_table(values = 'Duration', index='Channel')"
   ]
  },
  {
   "cell_type": "code",
   "execution_count": 44,
   "metadata": {},
   "outputs": [
    {
     "data": {
      "text/html": [
       "<div>\n",
       "<style scoped>\n",
       "    .dataframe tbody tr th:only-of-type {\n",
       "        vertical-align: middle;\n",
       "    }\n",
       "\n",
       "    .dataframe tbody tr th {\n",
       "        vertical-align: top;\n",
       "    }\n",
       "\n",
       "    .dataframe thead th {\n",
       "        text-align: right;\n",
       "    }\n",
       "</style>\n",
       "<table border=\"1\" class=\"dataframe\">\n",
       "  <thead>\n",
       "    <tr style=\"text-align: right;\">\n",
       "      <th></th>\n",
       "      <th>Duration</th>\n",
       "    </tr>\n",
       "    <tr>\n",
       "      <th>Date</th>\n",
       "      <th></th>\n",
       "    </tr>\n",
       "  </thead>\n",
       "  <tbody>\n",
       "    <tr>\n",
       "      <th>01/01/20</th>\n",
       "      <td>2688.0</td>\n",
       "    </tr>\n",
       "    <tr>\n",
       "      <th>01/02/20</th>\n",
       "      <td>2196.0</td>\n",
       "    </tr>\n",
       "    <tr>\n",
       "      <th>01/03/20</th>\n",
       "      <td>5231.0</td>\n",
       "    </tr>\n",
       "    <tr>\n",
       "      <th>01/04/20</th>\n",
       "      <td>2347.0</td>\n",
       "    </tr>\n",
       "    <tr>\n",
       "      <th>01/05/20</th>\n",
       "      <td>2585.0</td>\n",
       "    </tr>\n",
       "    <tr>\n",
       "      <th>...</th>\n",
       "      <td>...</td>\n",
       "    </tr>\n",
       "    <tr>\n",
       "      <th>31/03/20</th>\n",
       "      <td>2210.0</td>\n",
       "    </tr>\n",
       "    <tr>\n",
       "      <th>31/05/20</th>\n",
       "      <td>5755.0</td>\n",
       "    </tr>\n",
       "    <tr>\n",
       "      <th>31/07/20</th>\n",
       "      <td>5750.0</td>\n",
       "    </tr>\n",
       "    <tr>\n",
       "      <th>31/08/20</th>\n",
       "      <td>6281.0</td>\n",
       "    </tr>\n",
       "    <tr>\n",
       "      <th>31/10/20</th>\n",
       "      <td>2245.0</td>\n",
       "    </tr>\n",
       "  </tbody>\n",
       "</table>\n",
       "<p>365 rows × 1 columns</p>\n",
       "</div>"
      ],
      "text/plain": [
       "          Duration\n",
       "Date              \n",
       "01/01/20    2688.0\n",
       "01/02/20    2196.0\n",
       "01/03/20    5231.0\n",
       "01/04/20    2347.0\n",
       "01/05/20    2585.0\n",
       "...            ...\n",
       "31/03/20    2210.0\n",
       "31/05/20    5755.0\n",
       "31/07/20    5750.0\n",
       "31/08/20    6281.0\n",
       "31/10/20    2245.0\n",
       "\n",
       "[365 rows x 1 columns]"
      ]
     },
     "execution_count": 44,
     "metadata": {},
     "output_type": "execute_result"
    }
   ],
   "source": [
    "views.pivot_table(values = 'Duration', index='Date', aggfunc = 'sum')"
   ]
  },
  {
   "cell_type": "code",
   "execution_count": 46,
   "metadata": {},
   "outputs": [
    {
     "data": {
      "text/html": [
       "<div>\n",
       "<style scoped>\n",
       "    .dataframe tbody tr th:only-of-type {\n",
       "        vertical-align: middle;\n",
       "    }\n",
       "\n",
       "    .dataframe tbody tr th {\n",
       "        vertical-align: top;\n",
       "    }\n",
       "\n",
       "    .dataframe thead th {\n",
       "        text-align: right;\n",
       "    }\n",
       "</style>\n",
       "<table border=\"1\" class=\"dataframe\">\n",
       "  <thead>\n",
       "    <tr style=\"text-align: right;\">\n",
       "      <th></th>\n",
       "      <th>Duration</th>\n",
       "    </tr>\n",
       "    <tr>\n",
       "      <th>Date</th>\n",
       "      <th></th>\n",
       "    </tr>\n",
       "  </thead>\n",
       "  <tbody>\n",
       "    <tr>\n",
       "      <th>01/01/20</th>\n",
       "      <td>13.440000</td>\n",
       "    </tr>\n",
       "    <tr>\n",
       "      <th>01/02/20</th>\n",
       "      <td>10.980000</td>\n",
       "    </tr>\n",
       "    <tr>\n",
       "      <th>01/03/20</th>\n",
       "      <td>26.155000</td>\n",
       "    </tr>\n",
       "    <tr>\n",
       "      <th>01/04/20</th>\n",
       "      <td>11.735000</td>\n",
       "    </tr>\n",
       "    <tr>\n",
       "      <th>01/05/20</th>\n",
       "      <td>12.925000</td>\n",
       "    </tr>\n",
       "    <tr>\n",
       "      <th>...</th>\n",
       "      <td>...</td>\n",
       "    </tr>\n",
       "    <tr>\n",
       "      <th>31/03/20</th>\n",
       "      <td>11.050000</td>\n",
       "    </tr>\n",
       "    <tr>\n",
       "      <th>31/05/20</th>\n",
       "      <td>28.775000</td>\n",
       "    </tr>\n",
       "    <tr>\n",
       "      <th>31/07/20</th>\n",
       "      <td>28.894472</td>\n",
       "    </tr>\n",
       "    <tr>\n",
       "      <th>31/08/20</th>\n",
       "      <td>31.405000</td>\n",
       "    </tr>\n",
       "    <tr>\n",
       "      <th>31/10/20</th>\n",
       "      <td>11.225000</td>\n",
       "    </tr>\n",
       "  </tbody>\n",
       "</table>\n",
       "<p>365 rows × 1 columns</p>\n",
       "</div>"
      ],
      "text/plain": [
       "           Duration\n",
       "Date               \n",
       "01/01/20  13.440000\n",
       "01/02/20  10.980000\n",
       "01/03/20  26.155000\n",
       "01/04/20  11.735000\n",
       "01/05/20  12.925000\n",
       "...             ...\n",
       "31/03/20  11.050000\n",
       "31/05/20  28.775000\n",
       "31/07/20  28.894472\n",
       "31/08/20  31.405000\n",
       "31/10/20  11.225000\n",
       "\n",
       "[365 rows x 1 columns]"
      ]
     },
     "execution_count": 46,
     "metadata": {},
     "output_type": "execute_result"
    }
   ],
   "source": [
    "views.pivot_table(values = 'Duration', index='Date')"
   ]
  },
  {
   "cell_type": "code",
   "execution_count": 47,
   "metadata": {},
   "outputs": [],
   "source": [
    " plot = views.pivot_table(values = 'Duration', index='Date')"
   ]
  },
  {
   "cell_type": "code",
   "execution_count": 48,
   "metadata": {},
   "outputs": [
    {
     "data": {
      "text/plain": [
       "<AxesSubplot:xlabel='Date'>"
      ]
     },
     "execution_count": 48,
     "metadata": {},
     "output_type": "execute_result"
    },
    {
     "data": {
      "image/png": "[encoded data removed]",
      "text/plain": [
       "<Figure size 432x288 with 1 Axes>"
      ]
     },
     "metadata": {
      "needs_background": "light"
     },
     "output_type": "display_data"
    }
   ],
   "source": [
    "plot.plot()"
   ]
  },
  {
   "cell_type": "code",
   "execution_count": 49,
   "metadata": {},
   "outputs": [],
   "source": [
    " plot = views.pivot_table(values = 'Duration', index='Channel')"
   ]
  },
  {
   "cell_type": "code",
   "execution_count": 51,
   "metadata": {},
   "outputs": [
    {
     "data": {
      "text/plain": [
       "<AxesSubplot:xlabel='Channel'>"
      ]
     },
     "execution_count": 51,
     "metadata": {},
     "output_type": "execute_result"
    },
    {
     "data": {
      "image/png": "[encoded data removed]",
      "text/plain": [
       "<Figure size 432x288 with 1 Axes>"
      ]
     },
     "metadata": {
      "needs_background": "light"
     },
     "output_type": "display_data"
    }
   ],
   "source": [
    "plot.plot()"
   ]
  },
  {
   "cell_type": "code",
   "execution_count": null,
   "metadata": {},
   "outputs": [],
   "source": []
  }
 ],
 "metadata": {
  "kernelspec": {
   "display_name": "Python 3",
   "language": "python",
   "name": "python3"
  },
  "language_info": {
   "codemirror_mode": {
    "name": "ipython",
    "version": 3
   },
   "file_extension": ".py",
   "mimetype": "text/x-python",
   "name": "python",
   "nbconvert_exporter": "python",
   "pygments_lexer": "ipython3",
   "version": "3.7.10"
  }
 },
 "nbformat": 4,
 "nbformat_minor": 4
}
